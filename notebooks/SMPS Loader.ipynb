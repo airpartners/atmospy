{
 "cells": [
  {
   "cell_type": "markdown",
   "metadata": {},
   "source": [
    "# Using atmospy to load an SMPS File\n",
    "\n"
   ]
  },
  {
   "cell_type": "code",
   "execution_count": 19,
   "metadata": {
    "collapsed": false
   },
   "outputs": [
    {
     "name": "stdout",
     "output_type": "stream",
     "text": [
      "atmospy v0.1.0\n"
     ]
    }
   ],
   "source": [
    "import atmospy\n",
    "\n",
    "print (\"atmospy v{}\".format(atmospy.__version__))"
   ]
  },
  {
   "cell_type": "markdown",
   "metadata": {},
   "source": [
    "# dN Distribution (from SMPS)"
   ]
  },
  {
   "cell_type": "code",
   "execution_count": 20,
   "metadata": {
    "collapsed": false
   },
   "outputs": [
    {
     "name": "stdout",
     "output_type": "stream",
     "text": [
      "CPU times: user 91.8 ms, sys: 3.89 ms, total: 95.6 ms\n",
      "Wall time: 94.2 ms\n"
     ]
    }
   ],
   "source": [
    "# Setup an instance of the io.SMPS class\n",
    "raw = atmospy.io.SMPS()\n",
    "\n",
    "# Load the file of choice\n",
    "%time raw.load(\"../tests/data/SMPS_Number.txt\")"
   ]
  },
  {
   "cell_type": "markdown",
   "metadata": {},
   "source": [
    "# dN Distribution"
   ]
  },
  {
   "cell_type": "code",
   "execution_count": 21,
   "metadata": {
    "collapsed": false
   },
   "outputs": [
    {
     "name": "stdout",
     "output_type": "stream",
     "text": [
      "CPU times: user 9.93 ms, sys: 1.74 ms, total: 11.7 ms\n",
      "Wall time: 10.2 ms\n",
      "CPU times: user 9.55 ms, sys: 1.27 ms, total: 10.8 ms\n",
      "Wall time: 10.2 ms\n",
      "CPU times: user 458 ms, sys: 7.93 ms, total: 466 ms\n",
      "Wall time: 461 ms\n"
     ]
    }
   ],
   "source": [
    "%time d = atmospy.aerosols.ParticleDistribution(histogram = raw.histogram, bins = raw.bins)\n",
    "\n",
    "%time d.compute()\n",
    "\n",
    "%time d.statistics()"
   ]
  },
  {
   "cell_type": "code",
   "execution_count": 24,
   "metadata": {
    "collapsed": false
   },
   "outputs": [
    {
     "data": {
      "text/html": [
       "<div>\n",
       "<table border=\"1\" class=\"dataframe\">\n",
       "  <thead>\n",
       "    <tr style=\"text-align: right;\">\n",
       "      <th></th>\n",
       "      <th>N Total</th>\n",
       "      <th>Mean</th>\n",
       "      <th>GM</th>\n",
       "      <th>GSD</th>\n",
       "    </tr>\n",
       "    <tr>\n",
       "      <th>index</th>\n",
       "      <th></th>\n",
       "      <th></th>\n",
       "      <th></th>\n",
       "      <th></th>\n",
       "    </tr>\n",
       "  </thead>\n",
       "  <tbody>\n",
       "    <tr>\n",
       "      <th>2016-07-27 10:55:47</th>\n",
       "      <td>148.973553</td>\n",
       "      <td>119.463463</td>\n",
       "      <td>100.673949</td>\n",
       "      <td>1.913051</td>\n",
       "    </tr>\n",
       "    <tr>\n",
       "      <th>2016-07-27 10:57:51</th>\n",
       "      <td>156.962077</td>\n",
       "      <td>113.179571</td>\n",
       "      <td>94.575854</td>\n",
       "      <td>1.946241</td>\n",
       "    </tr>\n",
       "    <tr>\n",
       "      <th>2016-07-27 10:59:51</th>\n",
       "      <td>153.911369</td>\n",
       "      <td>102.963447</td>\n",
       "      <td>77.151835</td>\n",
       "      <td>2.464284</td>\n",
       "    </tr>\n",
       "    <tr>\n",
       "      <th>2016-07-27 11:01:51</th>\n",
       "      <td>144.782278</td>\n",
       "      <td>112.479011</td>\n",
       "      <td>93.247512</td>\n",
       "      <td>1.977647</td>\n",
       "    </tr>\n",
       "    <tr>\n",
       "      <th>2016-07-27 11:10:07</th>\n",
       "      <td>130.507933</td>\n",
       "      <td>122.642984</td>\n",
       "      <td>102.040449</td>\n",
       "      <td>2.043396</td>\n",
       "    </tr>\n",
       "  </tbody>\n",
       "</table>\n",
       "</div>"
      ],
      "text/plain": [
       "                        N Total        Mean          GM       GSD\n",
       "index                                                            \n",
       "2016-07-27 10:55:47  148.973553  119.463463  100.673949  1.913051\n",
       "2016-07-27 10:57:51  156.962077  113.179571   94.575854  1.946241\n",
       "2016-07-27 10:59:51  153.911369  102.963447   77.151835  2.464284\n",
       "2016-07-27 11:01:51  144.782278  112.479011   93.247512  1.977647\n",
       "2016-07-27 11:10:07  130.507933  122.642984  102.040449  2.043396"
      ]
     },
     "execution_count": 24,
     "metadata": {},
     "output_type": "execute_result"
    }
   ],
   "source": [
    "d.stats['Number'].head()"
   ]
  },
  {
   "cell_type": "code",
   "execution_count": 25,
   "metadata": {
    "collapsed": false
   },
   "outputs": [
    {
     "data": {
      "text/html": [
       "<div>\n",
       "<table border=\"1\" class=\"dataframe\">\n",
       "  <thead>\n",
       "    <tr style=\"text-align: right;\">\n",
       "      <th></th>\n",
       "      <th>Bin 0</th>\n",
       "      <th>Bin 1</th>\n",
       "      <th>Bin 2</th>\n",
       "      <th>Bin 3</th>\n",
       "      <th>Bin 4</th>\n",
       "      <th>Bin 5</th>\n",
       "      <th>Bin 6</th>\n",
       "      <th>Bin 7</th>\n",
       "      <th>Bin 8</th>\n",
       "      <th>Bin 9</th>\n",
       "      <th>...</th>\n",
       "      <th>Bin 91</th>\n",
       "      <th>Bin 92</th>\n",
       "      <th>Bin 93</th>\n",
       "      <th>Bin 94</th>\n",
       "      <th>Bin 95</th>\n",
       "      <th>Bin 96</th>\n",
       "      <th>Bin 97</th>\n",
       "      <th>Bin 98</th>\n",
       "      <th>Bin 99</th>\n",
       "      <th>Bin 100</th>\n",
       "    </tr>\n",
       "    <tr>\n",
       "      <th>index</th>\n",
       "      <th></th>\n",
       "      <th></th>\n",
       "      <th></th>\n",
       "      <th></th>\n",
       "      <th></th>\n",
       "      <th></th>\n",
       "      <th></th>\n",
       "      <th></th>\n",
       "      <th></th>\n",
       "      <th></th>\n",
       "      <th></th>\n",
       "      <th></th>\n",
       "      <th></th>\n",
       "      <th></th>\n",
       "      <th></th>\n",
       "      <th></th>\n",
       "      <th></th>\n",
       "      <th></th>\n",
       "      <th></th>\n",
       "      <th></th>\n",
       "      <th></th>\n",
       "    </tr>\n",
       "  </thead>\n",
       "  <tbody>\n",
       "    <tr>\n",
       "      <th>2016-07-27 10:55:47</th>\n",
       "      <td>0.0000</td>\n",
       "      <td>0.0</td>\n",
       "      <td>0.0</td>\n",
       "      <td>0.0</td>\n",
       "      <td>0.0</td>\n",
       "      <td>0.0</td>\n",
       "      <td>0.0</td>\n",
       "      <td>0.0</td>\n",
       "      <td>0.0</td>\n",
       "      <td>0.0</td>\n",
       "      <td>...</td>\n",
       "      <td>3.31174</td>\n",
       "      <td>2.53733</td>\n",
       "      <td>7.47391</td>\n",
       "      <td>1.28292</td>\n",
       "      <td>0.934639</td>\n",
       "      <td>4.88329</td>\n",
       "      <td>3.690040</td>\n",
       "      <td>0.970824</td>\n",
       "      <td>3.162940</td>\n",
       "      <td>2.23991</td>\n",
       "    </tr>\n",
       "    <tr>\n",
       "      <th>2016-07-27 10:57:51</th>\n",
       "      <td>0.0000</td>\n",
       "      <td>0.0</td>\n",
       "      <td>0.0</td>\n",
       "      <td>0.0</td>\n",
       "      <td>0.0</td>\n",
       "      <td>0.0</td>\n",
       "      <td>0.0</td>\n",
       "      <td>0.0</td>\n",
       "      <td>0.0</td>\n",
       "      <td>0.0</td>\n",
       "      <td>...</td>\n",
       "      <td>4.45274</td>\n",
       "      <td>6.01509</td>\n",
       "      <td>3.57956</td>\n",
       "      <td>2.40033</td>\n",
       "      <td>2.289790</td>\n",
       "      <td>3.08258</td>\n",
       "      <td>1.556350</td>\n",
       "      <td>3.143430</td>\n",
       "      <td>0.174966</td>\n",
       "      <td>2.35769</td>\n",
       "    </tr>\n",
       "    <tr>\n",
       "      <th>2016-07-27 10:59:51</th>\n",
       "      <td>7.2512</td>\n",
       "      <td>0.0</td>\n",
       "      <td>0.0</td>\n",
       "      <td>0.0</td>\n",
       "      <td>0.0</td>\n",
       "      <td>0.0</td>\n",
       "      <td>0.0</td>\n",
       "      <td>0.0</td>\n",
       "      <td>0.0</td>\n",
       "      <td>0.0</td>\n",
       "      <td>...</td>\n",
       "      <td>4.30251</td>\n",
       "      <td>1.54204</td>\n",
       "      <td>3.26911</td>\n",
       "      <td>1.20016</td>\n",
       "      <td>5.342840</td>\n",
       "      <td>1.54129</td>\n",
       "      <td>2.334520</td>\n",
       "      <td>0.785857</td>\n",
       "      <td>0.000000</td>\n",
       "      <td>2.41756</td>\n",
       "    </tr>\n",
       "    <tr>\n",
       "      <th>2016-07-27 11:01:51</th>\n",
       "      <td>0.0000</td>\n",
       "      <td>0.0</td>\n",
       "      <td>0.0</td>\n",
       "      <td>0.0</td>\n",
       "      <td>0.0</td>\n",
       "      <td>0.0</td>\n",
       "      <td>0.0</td>\n",
       "      <td>0.0</td>\n",
       "      <td>0.0</td>\n",
       "      <td>0.0</td>\n",
       "      <td>...</td>\n",
       "      <td>1.72908</td>\n",
       "      <td>1.24506</td>\n",
       "      <td>6.33078</td>\n",
       "      <td>2.71221</td>\n",
       "      <td>0.763263</td>\n",
       "      <td>3.91952</td>\n",
       "      <td>1.489400</td>\n",
       "      <td>1.941650</td>\n",
       "      <td>1.213770</td>\n",
       "      <td>2.41756</td>\n",
       "    </tr>\n",
       "    <tr>\n",
       "      <th>2016-07-27 11:10:07</th>\n",
       "      <td>0.0000</td>\n",
       "      <td>0.0</td>\n",
       "      <td>0.0</td>\n",
       "      <td>0.0</td>\n",
       "      <td>0.0</td>\n",
       "      <td>0.0</td>\n",
       "      <td>0.0</td>\n",
       "      <td>0.0</td>\n",
       "      <td>0.0</td>\n",
       "      <td>0.0</td>\n",
       "      <td>...</td>\n",
       "      <td>3.56038</td>\n",
       "      <td>5.32061</td>\n",
       "      <td>4.72268</td>\n",
       "      <td>1.95619</td>\n",
       "      <td>4.519640</td>\n",
       "      <td>2.37246</td>\n",
       "      <td>0.926519</td>\n",
       "      <td>2.207760</td>\n",
       "      <td>3.968480</td>\n",
       "      <td>1.04141</td>\n",
       "    </tr>\n",
       "  </tbody>\n",
       "</table>\n",
       "<p>5 rows × 101 columns</p>\n",
       "</div>"
      ],
      "text/plain": [
       "                      Bin 0  Bin 1  Bin 2  Bin 3  Bin 4  Bin 5  Bin 6  Bin 7  \\\n",
       "index                                                                          \n",
       "2016-07-27 10:55:47  0.0000    0.0    0.0    0.0    0.0    0.0    0.0    0.0   \n",
       "2016-07-27 10:57:51  0.0000    0.0    0.0    0.0    0.0    0.0    0.0    0.0   \n",
       "2016-07-27 10:59:51  7.2512    0.0    0.0    0.0    0.0    0.0    0.0    0.0   \n",
       "2016-07-27 11:01:51  0.0000    0.0    0.0    0.0    0.0    0.0    0.0    0.0   \n",
       "2016-07-27 11:10:07  0.0000    0.0    0.0    0.0    0.0    0.0    0.0    0.0   \n",
       "\n",
       "                     Bin 8  Bin 9   ...      Bin 91   Bin 92   Bin 93  \\\n",
       "index                               ...                                 \n",
       "2016-07-27 10:55:47    0.0    0.0   ...     3.31174  2.53733  7.47391   \n",
       "2016-07-27 10:57:51    0.0    0.0   ...     4.45274  6.01509  3.57956   \n",
       "2016-07-27 10:59:51    0.0    0.0   ...     4.30251  1.54204  3.26911   \n",
       "2016-07-27 11:01:51    0.0    0.0   ...     1.72908  1.24506  6.33078   \n",
       "2016-07-27 11:10:07    0.0    0.0   ...     3.56038  5.32061  4.72268   \n",
       "\n",
       "                      Bin 94    Bin 95   Bin 96    Bin 97    Bin 98    Bin 99  \\\n",
       "index                                                                           \n",
       "2016-07-27 10:55:47  1.28292  0.934639  4.88329  3.690040  0.970824  3.162940   \n",
       "2016-07-27 10:57:51  2.40033  2.289790  3.08258  1.556350  3.143430  0.174966   \n",
       "2016-07-27 10:59:51  1.20016  5.342840  1.54129  2.334520  0.785857  0.000000   \n",
       "2016-07-27 11:01:51  2.71221  0.763263  3.91952  1.489400  1.941650  1.213770   \n",
       "2016-07-27 11:10:07  1.95619  4.519640  2.37246  0.926519  2.207760  3.968480   \n",
       "\n",
       "                     Bin 100  \n",
       "index                         \n",
       "2016-07-27 10:55:47  2.23991  \n",
       "2016-07-27 10:57:51  2.35769  \n",
       "2016-07-27 10:59:51  2.41756  \n",
       "2016-07-27 11:01:51  2.41756  \n",
       "2016-07-27 11:10:07  1.04141  \n",
       "\n",
       "[5 rows x 101 columns]"
      ]
     },
     "execution_count": 25,
     "metadata": {},
     "output_type": "execute_result"
    }
   ],
   "source": [
    "d.data['dN'].head()"
   ]
  },
  {
   "cell_type": "code",
   "execution_count": 27,
   "metadata": {
    "collapsed": false
   },
   "outputs": [
    {
     "data": {
      "text/html": [
       "<div>\n",
       "<table border=\"1\" class=\"dataframe\">\n",
       "  <thead>\n",
       "    <tr style=\"text-align: right;\">\n",
       "      <th></th>\n",
       "      <th>Dp</th>\n",
       "      <th>bin_left</th>\n",
       "      <th>bin_right</th>\n",
       "      <th>logDp</th>\n",
       "      <th>dDp</th>\n",
       "      <th>dlogDp</th>\n",
       "    </tr>\n",
       "  </thead>\n",
       "  <tbody>\n",
       "    <tr>\n",
       "      <th>0</th>\n",
       "      <td>0.00661</td>\n",
       "      <td>0.006494</td>\n",
       "      <td>0.006732</td>\n",
       "      <td>-2.179799</td>\n",
       "      <td>0.000238</td>\n",
       "      <td>0.015625</td>\n",
       "    </tr>\n",
       "    <tr>\n",
       "      <th>1</th>\n",
       "      <td>0.00685</td>\n",
       "      <td>0.006732</td>\n",
       "      <td>0.006978</td>\n",
       "      <td>-2.164309</td>\n",
       "      <td>0.000247</td>\n",
       "      <td>0.015625</td>\n",
       "    </tr>\n",
       "    <tr>\n",
       "      <th>2</th>\n",
       "      <td>0.00710</td>\n",
       "      <td>0.006978</td>\n",
       "      <td>0.007234</td>\n",
       "      <td>-2.148742</td>\n",
       "      <td>0.000256</td>\n",
       "      <td>0.015623</td>\n",
       "    </tr>\n",
       "    <tr>\n",
       "      <th>3</th>\n",
       "      <td>0.00737</td>\n",
       "      <td>0.007234</td>\n",
       "      <td>0.007499</td>\n",
       "      <td>-2.132533</td>\n",
       "      <td>0.000265</td>\n",
       "      <td>0.015625</td>\n",
       "    </tr>\n",
       "    <tr>\n",
       "      <th>4</th>\n",
       "      <td>0.00764</td>\n",
       "      <td>0.007499</td>\n",
       "      <td>0.007774</td>\n",
       "      <td>-2.116907</td>\n",
       "      <td>0.000275</td>\n",
       "      <td>0.015625</td>\n",
       "    </tr>\n",
       "  </tbody>\n",
       "</table>\n",
       "</div>"
      ],
      "text/plain": [
       "        Dp  bin_left  bin_right     logDp       dDp    dlogDp\n",
       "0  0.00661  0.006494   0.006732 -2.179799  0.000238  0.015625\n",
       "1  0.00685  0.006732   0.006978 -2.164309  0.000247  0.015625\n",
       "2  0.00710  0.006978   0.007234 -2.148742  0.000256  0.015623\n",
       "3  0.00737  0.007234   0.007499 -2.132533  0.000265  0.015625\n",
       "4  0.00764  0.007499   0.007774 -2.116907  0.000275  0.015625"
      ]
     },
     "execution_count": 27,
     "metadata": {},
     "output_type": "execute_result"
    }
   ],
   "source": [
    "d.meta.head()"
   ]
  },
  {
   "cell_type": "code",
   "execution_count": null,
   "metadata": {
    "collapsed": true
   },
   "outputs": [],
   "source": []
  }
 ],
 "metadata": {
  "kernelspec": {
   "display_name": "Python 3",
   "language": "python",
   "name": "python3"
  },
  "language_info": {
   "codemirror_mode": {
    "name": "ipython",
    "version": 3
   },
   "file_extension": ".py",
   "mimetype": "text/x-python",
   "name": "python",
   "nbconvert_exporter": "python",
   "pygments_lexer": "ipython3",
   "version": "3.5.1"
  }
 },
 "nbformat": 4,
 "nbformat_minor": 0
}
